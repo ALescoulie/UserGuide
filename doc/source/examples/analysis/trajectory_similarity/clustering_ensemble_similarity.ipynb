{
 "cells": [
  {
   "cell_type": "markdown",
   "metadata": {},
   "source": [
    "# Calculating the Clustering Ensemble Similarity between ensembles\n",
    "\n",
    "Here we compare the conformational ensembles of proteins in four trajectories, using the clustering ensemble similarity method.\n",
    "\n",
    "**Last updated:** January 2020\n",
    "\n",
    "**Minimum version of MDAnalysis:** 0.21.0\n",
    "\n",
    "**Packages required:**\n",
    "    \n",
    "* MDAnalysis [[1, 2]](#References)\n",
    "* MDAnalysisTests\n",
    "* [scikit-learn](https://scikit-learn.org/stable/)\n",
    "   \n",
    "**Optional packages for visualisation:**\n",
    "\n",
    "* [matplotlib](https://matplotlib.org)\n",
    "\n",
    "\n",
    "<div class=\"alert alert-info\">\n",
    "    \n",
    "**Note**\n",
    "\n",
    "The metrics and methods in the `encore` module are from [(Tiberti *et al.*, 2015)](#References). Please cite them when using the ``MDAnalysis.analysis.encore`` module in published work.\n",
    "\n",
    "</div>"
   ]
  },
  {
   "cell_type": "code",
   "execution_count": 27,
   "metadata": {},
   "outputs": [],
   "source": [
    "import MDAnalysis as mda\n",
    "from MDAnalysis.tests.datafiles import (PSF, DCD, DCD2, GRO, XTC, \n",
    "                                        PSF_NAMD_GBIS, DCD_NAMD_GBIS)\n",
    "from MDAnalysis.analysis import encore, align\n",
    "from MDAnalysis.analysis.encore.clustering import ClusteringMethod as clm\n",
    "\n",
    "import numpy as np\n",
    "import matplotlib.pyplot as plt\n",
    "%matplotlib inline"
   ]
  },
  {
   "cell_type": "markdown",
   "metadata": {},
   "source": [
    "## Loading files"
   ]
  },
  {
   "cell_type": "markdown",
   "metadata": {},
   "source": [
    "The test files we will be working with here feature adenylate kinase (AdK), a phosophotransferase enzyme. [[4]](#References)"
   ]
  },
  {
   "cell_type": "code",
   "execution_count": 28,
   "metadata": {},
   "outputs": [],
   "source": [
    "u1 = mda.Universe(PSF, DCD)\n",
    "u2 = mda.Universe(PSF, DCD2)\n",
    "u3 = mda.Universe(PSF_NAMD_GBIS, DCD_NAMD_GBIS)\n",
    "\n",
    "labels = ['DCD', 'DCD2', 'NAMD']"
   ]
  },
  {
   "cell_type": "markdown",
   "metadata": {},
   "source": [
    "The trajectories can have different lengths, as seen below."
   ]
  },
  {
   "cell_type": "code",
   "execution_count": 29,
   "metadata": {},
   "outputs": [
    {
     "name": "stdout",
     "output_type": "stream",
     "text": [
      "98 102 100\n"
     ]
    }
   ],
   "source": [
    "print(len(u1.trajectory), len(u2.trajectory), len(u3.trajectory))"
   ]
  },
  {
   "cell_type": "markdown",
   "metadata": {},
   "source": [
    "## Calculating clustering similarity with one method"
   ]
  },
  {
   "cell_type": "markdown",
   "metadata": {},
   "source": [
    "The clustering ensemble similarity method combines every trajectory into a whole space of conformations, and then uses a user-specified `clustering_method` to partition this into clusters. The population of each trajectory ensemble within each cluster is taken as a probability density function.\n",
    "\n",
    "The similarity of each probability density function is compared using the Jensen-Shannon divergence. This divergence has an upper bound of $\\ln{(2)}$, representing no similarity between the ensembles, and a lower bound of 0.0, representing identical conformational ensembles.\n",
    "\n",
    "Clustering methods should be subclasses of `analysis.encore.clustering.ClusteringMethod`, initialised with your chosen parameters. Below, we set up an affinity progragation scheme, which uses message-passing to choose a number of 'exemplar' points to represent the data and updates these points until they converge. The `preference` parameter controls how many exemplars are used -- a higher value results in more clusters, while a lower value results in fewer clusters. The `damping` factor damps the message passing to avoid numerical oscillations. [(See the scikit-learn user guide for more information.)](https://scikit-learn.org/stable/modules/clustering.html#affinity-propagation)\n",
    "\n",
    "The other keyword arguments control when to stop clustering. Adding noise to the data can also avoid numerical oscillations."
   ]
  },
  {
   "cell_type": "code",
   "execution_count": 30,
   "metadata": {},
   "outputs": [],
   "source": [
    "clustering_method = clm.AffinityPropagationNative(preference=-1.0,\n",
    "                                                  damping=0.9,\n",
    "                                                  max_iter=200,\n",
    "                                                  convergence_iter=30,\n",
    "                                                  add_noise=True)"
   ]
  },
  {
   "cell_type": "markdown",
   "metadata": {},
   "source": [
    "You do not need to align your trajectories, as the function will align it for you (along your `selection` atoms). By default, MDAnalysis will run the job on one core. If it is taking too long and you have the resources, you can increase the number of cores used."
   ]
  },
  {
   "cell_type": "code",
   "execution_count": 31,
   "metadata": {},
   "outputs": [],
   "source": [
    "ces, details = encore.ces([u1, u2, u3],\n",
    "                         selection='name CA',\n",
    "                         clustering_method=clustering_method,\n",
    "                         ncores=4)"
   ]
  },
  {
   "cell_type": "markdown",
   "metadata": {},
   "source": [
    "`encore.ces` returns two outputs. `ces` is the similarity matrix for the ensemble of trajectories."
   ]
  },
  {
   "cell_type": "code",
   "execution_count": 32,
   "metadata": {
    "scrolled": true
   },
   "outputs": [
    {
     "data": {
      "text/plain": [
       "array([[0.        , 0.68070702, 0.69314718],\n",
       "       [0.68070702, 0.        , 0.69314718],\n",
       "       [0.69314718, 0.69314718, 0.        ]])"
      ]
     },
     "execution_count": 32,
     "metadata": {},
     "output_type": "execute_result"
    }
   ],
   "source": [
    "ces"
   ]
  },
  {
   "cell_type": "markdown",
   "metadata": {},
   "source": [
    "`details` contains the calculated clusters as a `encore.clustering.ClusterCollection.ClusterCollection`."
   ]
  },
  {
   "cell_type": "code",
   "execution_count": 33,
   "metadata": {
    "scrolled": false
   },
   "outputs": [
    {
     "name": "stdout",
     "output_type": "stream",
     "text": [
      "<class 'MDAnalysis.analysis.encore.clustering.ClusterCollection.ClusterCollection'>\n",
      "We have found 49 clusters\n"
     ]
    }
   ],
   "source": [
    "cluster_collection = details['clustering'][0]\n",
    "print(type(cluster_collection))\n",
    "print('We have found {} clusters'.format(len(cluster_collection)))"
   ]
  },
  {
   "cell_type": "code",
   "execution_count": 34,
   "metadata": {},
   "outputs": [
    {
     "data": {
      "text/plain": [
       "0 (size:5,centroid:1): array([ 0,  1,  2,  3, 98])\n",
       "1 (size:5,centroid:6): array([4, 5, 6, 7, 8])\n",
       "2 (size:7,centroid:12): array([ 9, 10, 11, 12, 13, 14, 15])\n",
       "3 (size:6,centroid:18): array([16, 17, 18, 19, 20, 21])\n",
       "4 (size:6,centroid:25): array([22, 23, 24, 25, 26, 27])\n",
       "5 (size:6,centroid:31): array([28, 29, 30, 31, 32, 33])\n",
       "6 (size:4,centroid:36): array([34, 35, 36, 37])\n",
       "7 (size:6,centroid:40): array([38, 39, 40, 41, 42, 43])\n",
       "8 (size:4,centroid:46): array([44, 45, 46, 47])\n",
       "9 (size:5,centroid:50): array([48, 49, 50, 51, 52])\n",
       "10 (size:5,centroid:55): array([53, 54, 55, 56, 57])\n",
       "11 (size:5,centroid:60): array([58, 59, 60, 61, 62])\n",
       "12 (size:6,centroid:65): array([63, 64, 65, 66, 67, 68])\n",
       "13 (size:8,centroid:73): array([69, 70, 71, 72, 73, 74, 75, 76])\n",
       "14 (size:7,centroid:81): array([77, 78, 79, 80, 81, 82, 83])\n",
       "15 (size:7,centroid:87): array([84, 85, 86, 87, 88, 89, 90])\n",
       "16 (size:7,centroid:94): array([91, 92, 93, 94, 95, 96, 97])\n",
       "17 (size:5,centroid:101): array([ 99, 100, 101, 102, 103])\n",
       "18 (size:6,centroid:106): array([104, 105, 106, 107, 108, 109])\n",
       "19 (size:6,centroid:113): array([110, 111, 112, 113, 114, 115])\n",
       "20 (size:5,centroid:118): array([116, 117, 118, 119, 120])\n",
       "21 (size:5,centroid:123): array([121, 122, 123, 124, 125])\n",
       "22 (size:4,centroid:128): array([126, 127, 128, 129])\n",
       "23 (size:5,centroid:132): array([130, 131, 132, 133, 134])\n",
       "24 (size:6,centroid:138): array([135, 136, 137, 138, 139, 140])\n",
       "25 (size:4,centroid:142): array([141, 142, 143, 144])\n",
       "26 (size:6,centroid:148): array([145, 146, 147, 148, 149, 150])\n",
       "27 (size:4,centroid:153): array([151, 152, 153, 154])\n",
       "28 (size:5,centroid:157): array([155, 156, 157, 158, 159])\n",
       "29 (size:6,centroid:162): array([160, 161, 162, 163, 164, 165])\n",
       "30 (size:5,centroid:168): array([166, 167, 168, 169, 170])\n",
       "31 (size:6,centroid:174): array([171, 172, 173, 174, 175, 176])\n",
       "32 (size:9,centroid:181): array([177, 178, 179, 180, 181, 182, 183, 184, 185])\n",
       "33 (size:7,centroid:189): array([186, 187, 188, 189, 190, 191, 192])\n",
       "34 (size:7,centroid:196): array([193, 194, 195, 196, 197, 198, 199])\n",
       "35 (size:7,centroid:203): array([200, 201, 202, 203, 204, 205, 206])\n",
       "36 (size:7,centroid:210): array([207, 208, 209, 210, 211, 212, 213])\n",
       "37 (size:7,centroid:217): array([214, 215, 216, 217, 218, 219, 220])\n",
       "38 (size:9,centroid:225): array([221, 222, 223, 224, 225, 226, 227, 228, 229])\n",
       "39 (size:6,centroid:233): array([230, 231, 232, 233, 234, 235])\n",
       "40 (size:7,centroid:239): array([236, 237, 238, 239, 240, 241, 242])\n",
       "41 (size:7,centroid:246): array([243, 244, 245, 246, 247, 248, 249])\n",
       "42 (size:8,centroid:253): array([250, 251, 252, 253, 254, 255, 256, 257])\n",
       "43 (size:9,centroid:262): array([258, 259, 260, 261, 262, 263, 264, 265, 266])\n",
       "44 (size:7,centroid:270): array([267, 268, 269, 270, 271, 272, 273])\n",
       "45 (size:6,centroid:277): array([274, 275, 276, 277, 278, 279])\n",
       "46 (size:7,centroid:283): array([280, 281, 282, 283, 284, 285, 286])\n",
       "47 (size:6,centroid:289): array([287, 288, 289, 290, 291, 292])\n",
       "48 (size:7,centroid:296): array([293, 294, 295, 296, 297, 298, 299])"
      ]
     },
     "execution_count": 34,
     "metadata": {},
     "output_type": "execute_result"
    }
   ],
   "source": [
    "cluster_collection"
   ]
  },
  {
   "cell_type": "markdown",
   "metadata": {},
   "source": [
    "We can access each Cluster at `cluster_collection.clusters`. For example, the first one has these elements:"
   ]
  },
  {
   "cell_type": "code",
   "execution_count": 35,
   "metadata": {
    "scrolled": true
   },
   "outputs": [
    {
     "data": {
      "text/plain": [
       "array([ 0,  1,  2,  3, 98])"
      ]
     },
     "execution_count": 35,
     "metadata": {},
     "output_type": "execute_result"
    }
   ],
   "source": [
    "first_cluster = cluster_collection.clusters[0]\n",
    "first_cluster"
   ]
  },
  {
   "cell_type": "code",
   "execution_count": 36,
   "metadata": {
    "scrolled": false
   },
   "outputs": [
    {
     "data": {
      "text/plain": [
       "array([ 0,  1,  2,  3, 98])"
      ]
     },
     "execution_count": 36,
     "metadata": {},
     "output_type": "execute_result"
    }
   ],
   "source": [
    "first_cluster.elements"
   ]
  },
  {
   "cell_type": "markdown",
   "metadata": {},
   "source": [
    "Each cluster has an ID number and a centroid conformation."
   ]
  },
  {
   "cell_type": "code",
   "execution_count": 37,
   "metadata": {
    "scrolled": true
   },
   "outputs": [
    {
     "name": "stdout",
     "output_type": "stream",
     "text": [
      "The ID of this cluster is: 0\n",
      "The centroid is 1\n"
     ]
    }
   ],
   "source": [
    "print('The ID of this cluster is:', first_cluster.id)\n",
    "print('The centroid is', first_cluster.centroid)"
   ]
  },
  {
   "cell_type": "markdown",
   "metadata": {},
   "source": [
    "### Plotting"
   ]
  },
  {
   "cell_type": "code",
   "execution_count": 69,
   "metadata": {
    "scrolled": true
   },
   "outputs": [
    {
     "data": {
      "image/png": "[encoded data removed]",
      "text/plain": [
       "<Figure size 432x288 with 2 Axes>"
      ]
     },
     "metadata": {
      "needs_background": "light"
     },
     "output_type": "display_data"
    }
   ],
   "source": [
    "fig, ax = plt.subplots()\n",
    "im = plt.imshow(ces, vmax=np.log(2), vmin=0)\n",
    "plt.xticks(np.arange(3), labels)\n",
    "plt.yticks(np.arange(3), labels)\n",
    "plt.title('Clustering ensemble similarity')\n",
    "cbar = fig.colorbar(im)\n",
    "cbar.set_label('Jensen-Shannon divergence')"
   ]
  },
  {
   "cell_type": "markdown",
   "metadata": {},
   "source": [
    "## Calculating clustering similarity with multiple methods"
   ]
  },
  {
   "cell_type": "markdown",
   "metadata": {},
   "source": [
    "You may want to try different clustering methods, or use different parameters within the methods. `encore.ces` allows you to pass a list of `clustering_methods` to be applied.\n",
    "\n",
    "<div class=\"alert alert-info\">\n",
    "    \n",
    "**Note**\n",
    "\n",
    "To use the other ENCORE methods available, you need to install [scikit-learn](https://scikit-learn.org/stable/).\n",
    "\n",
    "</div>"
   ]
  },
  {
   "cell_type": "markdown",
   "metadata": {},
   "source": [
    "### Trying out different clustering parameters"
   ]
  },
  {
   "cell_type": "markdown",
   "metadata": {},
   "source": [
    "The KMeans clustering algorithm separates samples into $n$ groups of equal variance, with centroids that minimise the inertia. You must choose how many clusters to partition. [(See the scikit-learn user guide for more information.)](https://scikit-learn.org/stable/modules/clustering.html#k-means)"
   ]
  },
  {
   "cell_type": "code",
   "execution_count": 39,
   "metadata": {},
   "outputs": [],
   "source": [
    "km1 = clm.KMeans(12,  # no. clusters\n",
    "                 init = 'k-means++',  # default\n",
    "                 algorithm=\"auto\")    # default\n",
    "\n",
    "km2 = clm.KMeans(6,  # no. clusters\n",
    "                 init = 'k-means++',  # default\n",
    "                 algorithm=\"auto\")    # default"
   ]
  },
  {
   "cell_type": "markdown",
   "metadata": {},
   "source": [
    "The DBSCAN algorithm is a density-based clustering method that defines clusters as 'high density' areas, separated by low density areas. The parameters `min_samples` and `eps` define how dense an area should be to form a cluster. Clusters are defined around core points which have at least `min_samples` neighbours within a distance of `eps`. Points that are at least `eps` in distance from any core point are considered outliers.\n",
    "[(See the scikit-learn user guide for more information.)](https://scikit-learn.org/stable/modules/clustering.html#dbscan)\n",
    "\n",
    "A higher `min_samples` or lower `eps` mean that data points must be more dense to form a cluster. You should consider your `eps` carefully. In MDAnalysis, `eps` can be interpreted as the distance between two points in Angstrom."
   ]
  },
  {
   "cell_type": "code",
   "execution_count": 42,
   "metadata": {},
   "outputs": [],
   "source": [
    "db1 = clm.DBSCAN(eps=0.5,\n",
    "                 min_samples=5,\n",
    "                 algorithm='auto',\n",
    "                 leaf_size=30)\n",
    "\n",
    "db2 = clm.DBSCAN(eps=1,\n",
    "                 min_samples=5,\n",
    "                 algorithm='auto',\n",
    "                 leaf_size=30)"
   ]
  },
  {
   "cell_type": "markdown",
   "metadata": {},
   "source": [
    "When we pass a list of clustering methods to `encore.ces`, the results get saved in `ces2` and `details2` in order."
   ]
  },
  {
   "cell_type": "code",
   "execution_count": 43,
   "metadata": {},
   "outputs": [],
   "source": [
    "ces2, details2 = encore.ces([u1, u2, u3],\n",
    "                         selection='name CA',\n",
    "                         clustering_method=[km1, km2, db1, db2],\n",
    "                         ncores=4)\n",
    "print(len(ces2), len(details2['clustering']))"
   ]
  },
  {
   "cell_type": "markdown",
   "metadata": {},
   "source": [
    "### Plotting"
   ]
  },
  {
   "cell_type": "code",
   "execution_count": 72,
   "metadata": {},
   "outputs": [
    {
     "data": {
      "image/png": "[encoded data removed]",
      "text/plain": [
       "<Figure size 1080x216 with 5 Axes>"
      ]
     },
     "metadata": {
      "needs_background": "light"
     },
     "output_type": "display_data"
    }
   ],
   "source": [
    "titles = ['Kmeans 12 clusters', 'Kmeans 6 clusters', 'DBSCAN eps=0.5', 'DBSCAN eps=1']\n",
    "fig2, axes = plt.subplots(1, 4, sharey=True, figsize=(15, 3))\n",
    "for i, (data, title) in enumerate(zip(ces2, titles)):\n",
    "    imi = axes[i].imshow(data, vmax=np.log(2), vmin=0)\n",
    "    axes[i].set_xticks(np.arange(3))\n",
    "    axes[i].set_xticklabels(labels)\n",
    "    axes[i].set_title(title)\n",
    "plt.yticks(np.arange(3), labels)\n",
    "cbar2 = fig2.colorbar(imi, ax=axes.ravel().tolist())\n",
    "cbar2.set_label('Jensen-Shannon divergence')"
   ]
  },
  {
   "cell_type": "markdown",
   "metadata": {},
   "source": [
    "As can be seen, reducing the number of clusters in the K-means method emphasises that DCD2 is more similar to the NAMD trajectory than DCD. Meanwhile, increasing `eps` in DBSCAN clearly lowered the density required to form a cluster so much that every trajectory is in the same cluster, and therefore they have identical probability distributions."
   ]
  },
  {
   "cell_type": "code",
   "execution_count": 75,
   "metadata": {},
   "outputs": [
    {
     "name": "stdout",
     "output_type": "stream",
     "text": [
      "Number of clusters in DBSCAN eps=1: 1\n"
     ]
    }
   ],
   "source": [
    "n_db = len(details2['clustering'][-1])\n",
    "\n",
    "print('Number of clusters in DBSCAN eps=1: {}'.format(n_db))"
   ]
  },
  {
   "cell_type": "markdown",
   "metadata": {},
   "source": [
    "## Estimating the error in a clustering ensemble similarity analysis"
   ]
  },
  {
   "cell_type": "markdown",
   "metadata": {},
   "source": [
    "`encore.ces` also allows for error estimation using a bootstrapping method. This returns the average Jensen-Shannon divergence, and standard deviation over the samples. "
   ]
  },
  {
   "cell_type": "code",
   "execution_count": 24,
   "metadata": {},
   "outputs": [],
   "source": [
    "avgs, stds = encore.ces([u1, u2, u3],\n",
    "                         selection='name CA',\n",
    "                         clustering_method=clustering_method,\n",
    "                         estimate_error=True,\n",
    "                         ncores=4)"
   ]
  },
  {
   "cell_type": "code",
   "execution_count": 25,
   "metadata": {},
   "outputs": [
    {
     "data": {
      "text/plain": [
       "array([[0.        , 0.68591101, 0.69314718],\n",
       "       [0.68591101, 0.        , 0.68967219],\n",
       "       [0.69314718, 0.68967219, 0.        ]])"
      ]
     },
     "execution_count": 25,
     "metadata": {},
     "output_type": "execute_result"
    }
   ],
   "source": [
    "avgs"
   ]
  },
  {
   "cell_type": "code",
   "execution_count": 26,
   "metadata": {},
   "outputs": [
    {
     "data": {
      "text/plain": [
       "array([[0.00000000e+00, 5.92294655e-03, 1.21618839e-16],\n",
       "       [5.92294655e-03, 0.00000000e+00, 6.94998003e-03],\n",
       "       [1.21618839e-16, 6.94998003e-03, 0.00000000e+00]])"
      ]
     },
     "execution_count": 26,
     "metadata": {},
     "output_type": "execute_result"
    }
   ],
   "source": [
    "stds"
   ]
  },
  {
   "cell_type": "markdown",
   "metadata": {},
   "source": [
    "## References"
   ]
  },
  {
   "cell_type": "markdown",
   "metadata": {},
   "source": [
    "[1] R. J. Gowers, M. Linke, J. Barnoud, T. J. E. Reddy, M. N. Melo, S. L. Seyler, D. L. Dotson, J. Domanski, S. Buchoux, I. M. Kenney, and O. Beckstein. [MDAnalysis: A Python package for the rapid analysis of molecular dynamics simulations](http://conference.scipy.org/proceedings/scipy2016/oliver_beckstein.html). In S. Benthall and S. Rostrup, editors, *Proceedings of the 15th Python in Science Conference*, pages 98-105, Austin, TX, 2016. SciPy, doi: [10.25080/majora-629e541a-00e](https://doi.org/10.25080/majora-629e541a-00e).\n",
    "\n",
    "[2] N. Michaud-Agrawal, E. J. Denning, T. B. Woolf, and O. Beckstein. MDAnalysis: A Toolkit for the Analysis of Molecular Dynamics Simulations. *J. Comput. Chem*. 32 (2011), 2319-2327, [doi:10.1002/jcc.21787](https://dx.doi.org/10.1002/jcc.21787). PMCID:[PMC3144279](https://www.ncbi.nlm.nih.gov/pmc/articles/PMC3144279/)\n",
    "\n",
    "[3] ENCORE: Software for Quantitative Ensemble Comparison. Matteo Tiberti, Elena Papaleo, Tone Bengtsen, Wouter Boomsma, Kresten Lindorff-Larsen. *PLoS Comput Biol.* 2015, 11, e1004415.\n",
    "\n",
    "[4] Beckstein O, Denning EJ, Perilla JR, Woolf TB. Zipping and unzipping of adenylate kinase: atomistic insights into the ensemble of open<-->closed transitions. *J Mol Biol*. 2009;394(1):160–176. [doi:10.1016/j.jmb.2009.09.009](https://dx.doi.org/10.1016%2Fj.jmb.2009.09.009)\n"
   ]
  }
 ],
 "metadata": {
  "kernelspec": {
   "display_name": "Python (mdanalysis)",
   "language": "python",
   "name": "mdanalysis"
  },
  "language_info": {
   "codemirror_mode": {
    "name": "ipython",
    "version": 3
   },
   "file_extension": ".py",
   "mimetype": "text/x-python",
   "name": "python",
   "nbconvert_exporter": "python",
   "pygments_lexer": "ipython3",
   "version": "3.7.3"
  },
  "toc": {
   "base_numbering": 1,
   "nav_menu": {},
   "number_sections": false,
   "sideBar": true,
   "skip_h1_title": false,
   "title_cell": "Table of Contents",
   "title_sidebar": "Contents",
   "toc_cell": false,
   "toc_position": {},
   "toc_section_display": true,
   "toc_window_display": false
  }
 },
 "nbformat": 4,
 "nbformat_minor": 2
}
