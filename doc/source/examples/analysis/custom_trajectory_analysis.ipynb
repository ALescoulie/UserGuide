{
 "cells": [
  {
   "cell_type": "markdown",
   "metadata": {},
   "source": [
    "# Writing your own trajectory analysis\n",
    "\n",
    "We create our own analysis methods for calculating the radius of gyration of a selection of atoms.\n",
    "\n",
    "This can be done three ways, from least to most flexible:\n",
    "\n",
    " 1. [Running the analysis directly from a function](#Creating-an-analysis-from-a-function)\n",
    " \n",
    " 2. [Turning a function into a class](#Transforming-a-function-into-a-class)\n",
    " \n",
    " 3. [Writing your own class](#Creating-your-own-class)\n",
    "\n",
    "The building blocks and methods shown here are only suitable for analyses that involve iterating over the trajectory once.\n",
    "\n",
    "**Last updated:** February 2020\n",
    "\n",
    "**Minimum version of MDAnalysis:** 0.19.0\n",
    "\n",
    "**Packages required:**\n",
    "    \n",
    "* MDAnalysis (#michaud-agrawal_mdanalysis_2011, #gowers_mdanalysis_2016)\n",
    "* MDAnalysisTests\n"
   ]
  },
  {
   "cell_type": "code",
   "execution_count": 1,
   "metadata": {},
   "outputs": [],
   "source": [
    "import MDAnalysis as mda\n",
    "from MDAnalysis.tests.datafiles import PSF, DCD, DCD2\n",
    "from MDAnalysis.analysis.base import (AnalysisBase,\n",
    "                                      AnalysisFromFunction,\n",
    "                                      analysis_class)\n",
    "import numpy as np\n",
    "import pandas as pd\n",
    "import matplotlib.pyplot as plt\n",
    "%matplotlib inline"
   ]
  },
  {
   "cell_type": "markdown",
   "metadata": {},
   "source": [
    "## Radius of gyration\n",
    "\n",
    "Let's start off by defining a standalone analysis function.\n",
    "\n",
    "The radius of gyration of a structure measures how compact it is. In [GROMACS](http://manual.gromacs.org/documentation/2019-rc1/reference-manual/analysis/radius-of-gyration.html), it is calculated as follows: \n",
    "\n",
    "$$ R_g = \\sqrt{\\frac{\\sum_i m_i \\mathbf{r}_i^2}{\\sum_i m_i}}$$\n",
    "\n",
    "where $m_i$ is the mass of atom $i$ and $\\mathbf{r}_i$ is the position of atom $i$, relative to the center-of-mass of the selection.\n",
    "\n",
    "The radius of gyration around each axis can also be determined separately. For example, the radius of gyration around the x-axis:\n",
    "\n",
    "$$ R_{i, x} = \\sqrt{\\frac{\\sum_i m_i [r_{i, y}^2 + r_{i, z}^2]}{\\sum_i m_i}}$$\n",
    "\n",
    "Below, we define a function that takes an AtomGroup and calculates the radii of gyration. We could write this function to only need the AtomGroup. However, we also add in a `masses` argument and a `total_mass` keyword to avoid recomputing the mass and total mass for each frame."
   ]
  },
  {
   "cell_type": "code",
   "execution_count": 2,
   "metadata": {},
   "outputs": [],
   "source": [
    "def radgyr(atomgroup, masses, total_mass=None):\n",
    "    # coordinates change for each frame\n",
    "    coordinates = atomgroup.positions\n",
    "    center_of_mass = atomgroup.center_of_mass()\n",
    "    \n",
    "    # get squared distance from center\n",
    "    ri_sq = (coordinates-center_of_mass)**2\n",
    "    # sum the unweighted positions\n",
    "    sq = np.sum(ri_sq, axis=1)\n",
    "    sq_x = np.sum(ri_sq[:,[1,2]], axis=1) # sum over y and z\n",
    "    sq_y = np.sum(ri_sq[:,[0,2]], axis=1) # sum over x and z\n",
    "    sq_z = np.sum(ri_sq[:,[0,1]], axis=1) # sum over x and y\n",
    "    \n",
    "    # make into array\n",
    "    sq_rs = np.array([sq, sq_x, sq_y, sq_z])\n",
    "    \n",
    "    # weight positions\n",
    "    rog_sq = np.sum(masses*sq_rs, axis=1)/total_mass\n",
    "    # square root and return\n",
    "    return np.sqrt(rog_sq)"
   ]
  },
  {
   "cell_type": "markdown",
   "metadata": {},
   "source": [
    "## Loading files\n",
    "\n",
    "The test files we will be working with here feature adenylate kinase (AdK), a phosophotransferase enzyme. (#beckstein_zipping_2009)"
   ]
  },
  {
   "cell_type": "code",
   "execution_count": 3,
   "metadata": {},
   "outputs": [],
   "source": [
    "u = mda.Universe(PSF, DCD)\n",
    "protein = u.select_atoms('protein')\n",
    "\n",
    "u2 = mda.Universe(PSF, DCD2)"
   ]
  },
  {
   "cell_type": "markdown",
   "metadata": {},
   "source": [
    "## Creating an analysis from a function\n",
    "\n",
    "`MDAnalysis.analysis.base.AnalysisFromFunction` can create an analysis from a function that works on AtomGroups. It requires the function itself, the trajectory to operate on, and then the arguments / keyword arguments necessary for the function."
   ]
  },
  {
   "cell_type": "code",
   "execution_count": 4,
   "metadata": {},
   "outputs": [],
   "source": [
    "rog = AnalysisFromFunction(radgyr, u.trajectory, \n",
    "                           protein, protein.masses, \n",
    "                           total_mass=np.sum(protein.masses))\n",
    "rog.run();"
   ]
  },
  {
   "cell_type": "markdown",
   "metadata": {},
   "source": [
    "Running the analysis iterates over the trajectory. The output is saved in `rog.results`, which has the same number of rows, as frames in the trajectory."
   ]
  },
  {
   "cell_type": "code",
   "execution_count": 5,
   "metadata": {
    "scrolled": true
   },
   "outputs": [
    {
     "data": {
      "text/plain": [
       "(98, 4)"
      ]
     },
     "execution_count": 5,
     "metadata": {},
     "output_type": "execute_result"
    }
   ],
   "source": [
    "rog.results.shape"
   ]
  },
  {
   "cell_type": "code",
   "execution_count": 6,
   "metadata": {},
   "outputs": [
    {
     "data": {
      "image/png": "[encoded data removed]",
      "text/plain": [
       "<Figure size 432x288 with 1 Axes>"
      ]
     },
     "metadata": {
      "needs_background": "light"
     },
     "output_type": "display_data"
    }
   ],
   "source": [
    "labels = ['all', 'x-axis', 'y-axis', 'z-axis']\n",
    "for col, label in zip(rog.results.T, labels):\n",
    "    plt.plot(col, label=label)\n",
    "plt.legend()\n",
    "plt.ylabel('Radius of gyration (Å)')\n",
    "plt.xlabel('Frame');"
   ]
  },
  {
   "cell_type": "markdown",
   "metadata": {},
   "source": [
    "You can also re-run the analysis with different frame selections. \n",
    "\n",
    "Below, we start from the 10th frame and take every 8th frame until the 80th. Note that the slice includes the `start` frame, but does not include the `stop` frame index (much like the actual `range()` function)."
   ]
  },
  {
   "cell_type": "code",
   "execution_count": 7,
   "metadata": {},
   "outputs": [
    {
     "data": {
      "text/plain": [
       "(10, 4)"
      ]
     },
     "execution_count": 7,
     "metadata": {},
     "output_type": "execute_result"
    }
   ],
   "source": [
    "rog_10 = AnalysisFromFunction(radgyr, u.trajectory, \n",
    "                              protein, protein.masses, \n",
    "                              total_mass=np.sum(protein.masses))\n",
    "\n",
    "rog_10.run(start=10, stop=80, step=7)\n",
    "rog_10.results.shape"
   ]
  },
  {
   "cell_type": "code",
   "execution_count": 8,
   "metadata": {
    "scrolled": false
   },
   "outputs": [
    {
     "data": {
      "image/png": "[encoded data removed]",
      "text/plain": [
       "<Figure size 432x288 with 1 Axes>"
      ]
     },
     "metadata": {
      "needs_background": "light"
     },
     "output_type": "display_data"
    }
   ],
   "source": [
    "for col, label in zip(rog_10.results.T, labels):\n",
    "    plt.plot(col, label=label)\n",
    "plt.legend()\n",
    "plt.ylabel('Radius of gyration (Å)')\n",
    "plt.xlabel('Frame');"
   ]
  },
  {
   "cell_type": "markdown",
   "metadata": {},
   "source": [
    "## Transforming a function into a class\n",
    "\n",
    "While the `AnalysisFromFunction` is convenient for quick analyses, you may want to turn your function into a class that can be applied to many different trajectories, much like other MDAnalysis analyses.\n",
    "\n",
    "You can apply `analysis_class` to any function that you can run with `AnalysisFromFunction` to get a class."
   ]
  },
  {
   "cell_type": "code",
   "execution_count": 9,
   "metadata": {},
   "outputs": [],
   "source": [
    "RadiusOfGyration = analysis_class(radgyr)"
   ]
  },
  {
   "cell_type": "markdown",
   "metadata": {},
   "source": [
    "To run the analysis, pass exactly the same arguments as you would for `AnalysisFromFunction`."
   ]
  },
  {
   "cell_type": "code",
   "execution_count": 10,
   "metadata": {},
   "outputs": [],
   "source": [
    "rog_u1 = RadiusOfGyration(u.trajectory, protein, \n",
    "                          protein.masses,\n",
    "                          total_mass=np.sum(protein.masses))\n",
    "rog_u1.run();"
   ]
  },
  {
   "cell_type": "markdown",
   "metadata": {},
   "source": [
    "As with `AnalysisFromFunction`, the results are in `results`."
   ]
  },
  {
   "cell_type": "code",
   "execution_count": 11,
   "metadata": {},
   "outputs": [
    {
     "data": {
      "image/png": "[encoded data removed]",
      "text/plain": [
       "<Figure size 432x288 with 1 Axes>"
      ]
     },
     "metadata": {
      "needs_background": "light"
     },
     "output_type": "display_data"
    }
   ],
   "source": [
    "for col, label in zip(rog_u1.results.T, labels):\n",
    "    plt.plot(col, label=label)\n",
    "plt.legend()\n",
    "plt.ylabel('Radius of gyration (Å)')\n",
    "plt.xlabel('Frame');"
   ]
  },
  {
   "cell_type": "markdown",
   "metadata": {},
   "source": [
    "You can reuse the class for other trajectories and selections."
   ]
  },
  {
   "cell_type": "code",
   "execution_count": 12,
   "metadata": {},
   "outputs": [],
   "source": [
    "ca = u2.select_atoms('name CA')\n",
    "\n",
    "rog_u2 = RadiusOfGyration(u2.trajectory, ca, \n",
    "                          ca.masses,\n",
    "                          total_mass=np.sum(ca.masses))\n",
    "rog_u2.run();"
   ]
  },
  {
   "cell_type": "code",
   "execution_count": 13,
   "metadata": {},
   "outputs": [
    {
     "data": {
      "image/png": "[encoded data removed]",
      "text/plain": [
       "<Figure size 432x288 with 1 Axes>"
      ]
     },
     "metadata": {
      "needs_background": "light"
     },
     "output_type": "display_data"
    }
   ],
   "source": [
    "for col, label in zip(rog_u2.results.T, labels):\n",
    "    plt.plot(col, label=label)\n",
    "plt.legend()\n",
    "plt.ylabel('Radius of gyration (Å)')\n",
    "plt.xlabel('Frame');"
   ]
  },
  {
   "cell_type": "markdown",
   "metadata": {},
   "source": [
    "## Creating your own class\n",
    "\n",
    "Although `AnalysisFromFunction` and `analysis_class` are convenient, they can be too limited for complex algorithms. You may need to write your own class.\n",
    "\n",
    "MDAnalysis provides the `MDAnalysis.analysis.base.AnalysisBase` class as a template for creating multiframe analyses. This class automatically sets up your trajectory reader for iterating, and includes an optional progress meter. \n",
    "\n",
    "The analysis is always run by calling `run()`. `AnalysisFromFunction` actually subclasses `AnalysisBase`, and `analysis_class` returns a subclass of `AnalysisFromFunction`, so the behaviour of `run()` remains identical.\n",
    "\n",
    "### 1. Define `__init__`\n",
    "You can define a new analysis by subclassing AnalysisBase. Initialise the analysis with the `__init__` method, where you *must* pass the trajectory that you are working with to `AnalysisBase.__init__()`. You can also pass in the `verbose` keyword. If `verbose=True`, the class will set up a progress meter for you.\n",
    "\n",
    "### 2. Define your analysis in `_single_frame()` and other methods\n",
    "Implement your functionality as a function over each frame of the trajectory by defining `_single_frame()`. This function gets called for each frame of your trajectory. \n",
    "\n",
    "You can also define `_prepare()` and `_conclude()` to set your analysis up before looping over the trajectory, and to finalise the results that you have prepared. In order, `run()` calls:\n",
    "\n",
    " - `_prepare()`\n",
    " - `_single_frame()` (for each frame of the trajectory that you are iterating over)\n",
    " - `_conclude()`\n",
    "\n",
    "Class subclassed from AnalysisBase can make use of several properties when defining the methods above:\n",
    "\n",
    " - `self.start`: frame index to start analysing from. Defined in `run()`\n",
    " - `self.stop`: frame index to stop analysis. Defined in `run()`\n",
    " - `self.step`: number of frames to skip in between. Defined in `run()`\n",
    " - `self.n_frames`: number of frames to analyse over. This can be helpful in initialising result arrays.\n",
    " - `self._verbose`: whether to be verbose.\n",
    " - `self._trajectory`: the actual trajectory\n",
    " - `self._ts`: the current timestep object\n",
    " - `self._frame_index`: the index of the currently analysed frame. This is *not* the absolute index of the frame in the trajectory overall, but rather the relative index of the frame within the list of frames to be analysed. You can think of it as the number of times that `self._single_frame()` has already been called.\n",
    " \n",
    "Below, we create the class `RadiusOfGyration2` to run the analysis function that we have defined above, and add extra information such as the time of the corresponding frame."
   ]
  },
  {
   "cell_type": "code",
   "execution_count": 14,
   "metadata": {},
   "outputs": [],
   "source": [
    "class RadiusOfGyration2(AnalysisBase):  # subclass AnalysisBase\n",
    "    \n",
    "    def __init__(self, atomgroup, verbose=True):\n",
    "        \"\"\"\n",
    "        Set up the initial analysis parameters.\n",
    "        \"\"\"\n",
    "        # must first run AnalysisBase.__init__ and pass the trajectory\n",
    "        trajectory = atomgroup.universe.trajectory\n",
    "        super(RadiusOfGyration2, self).__init__(trajectory,\n",
    "                                               verbose=verbose)\n",
    "        # set atomgroup as a property for access in other methods\n",
    "        self.atomgroup = atomgroup\n",
    "        # we can calculate masses now because they do not depend\n",
    "        # on the trajectory frame.\n",
    "        self.masses = self.atomgroup.masses\n",
    "        self.total_mass = np.sum(self.masses)\n",
    "    \n",
    "    def _prepare(self):\n",
    "        \"\"\"\n",
    "        Create array of zeroes as a placeholder for results.\n",
    "        This is run before we begin looping over the trajectory.\n",
    "        \"\"\"\n",
    "        # This must go here, instead of __init__, because\n",
    "        # it depends on the number of frames specified in run().\n",
    "        self.results = np.zeros((self.n_frames, 6))\n",
    "        # We put in 6 columns: 1 for the frame index, \n",
    "        # 1 for the time, 4 for the radii of gyration\n",
    "        \n",
    "    def _single_frame(self):\n",
    "        \"\"\"\n",
    "        This function is called for every frame that we choose\n",
    "        in run().\n",
    "        \"\"\"\n",
    "        # call our earlier function\n",
    "        rogs = radgyr(self.atomgroup, self.masses,\n",
    "                      total_mass=self.total_mass)\n",
    "        # save it into self.results\n",
    "        self.results[self._frame_index, 2:] = rogs\n",
    "        # the current timestep of the trajectory is self._ts\n",
    "        self.results[self._frame_index, 0] = self._ts.frame\n",
    "        # the actual trajectory is at self._trajectory\n",
    "        self.results[self._frame_index, 1] = self._trajectory.time\n",
    "        \n",
    "    def _conclude(self):\n",
    "        \"\"\"\n",
    "        Finish up by calculating an average and transforming our\n",
    "        results into a DataFrame.\n",
    "        \"\"\"\n",
    "        # by now self.result is fully populated\n",
    "        self.average = np.mean(self.results[:, 2:], axis=0)\n",
    "        columns = ['Frame', 'Time (ps)', 'Radius of Gyration',\n",
    "                   'Radius of Gyration (x-axis)',\n",
    "                   'Radius of Gyration (y-axis)',\n",
    "                   'Radius of Gyration (z-axis)',]\n",
    "        self.df = pd.DataFrame(self.results, columns=columns)"
   ]
  },
  {
   "cell_type": "markdown",
   "metadata": {},
   "source": [
    "Because `RadiusOfGyration2` calculates the masses of the selected AtomGroup itself, we do not need to pass it in ourselves."
   ]
  },
  {
   "cell_type": "code",
   "execution_count": 15,
   "metadata": {
    "scrolled": true
   },
   "outputs": [
    {
     "name": "stderr",
     "output_type": "stream",
     "text": [
      "Step    98/98 [100.0%]\n"
     ]
    }
   ],
   "source": [
    "rog_base = RadiusOfGyration2(protein, verbose=True).run()"
   ]
  },
  {
   "cell_type": "markdown",
   "metadata": {},
   "source": [
    "As calculated in `_conclude()`, the average radii of gyrations are at `rog.average`."
   ]
  },
  {
   "cell_type": "code",
   "execution_count": 16,
   "metadata": {},
   "outputs": [
    {
     "data": {
      "text/plain": [
       "array([18.26549552, 12.85342131, 15.37359575, 16.29185734])"
      ]
     },
     "execution_count": 16,
     "metadata": {},
     "output_type": "execute_result"
    }
   ],
   "source": [
    "rog_base.average"
   ]
  },
  {
   "cell_type": "markdown",
   "metadata": {},
   "source": [
    "The results are available at `rog.results` as an array or `rog.df` as a DataFrame."
   ]
  },
  {
   "cell_type": "code",
   "execution_count": 17,
   "metadata": {},
   "outputs": [
    {
     "data": {
      "text/html": [
       "<div>\n",
       "<style scoped>\n",
       "    .dataframe tbody tr th:only-of-type {\n",
       "        vertical-align: middle;\n",
       "    }\n",
       "\n",
       "    .dataframe tbody tr th {\n",
       "        vertical-align: top;\n",
       "    }\n",
       "\n",
       "    .dataframe thead th {\n",
       "        text-align: right;\n",
       "    }\n",
       "</style>\n",
       "<table border=\"1\" class=\"dataframe\">\n",
       "  <thead>\n",
       "    <tr style=\"text-align: right;\">\n",
       "      <th></th>\n",
       "      <th>Frame</th>\n",
       "      <th>Time (ps)</th>\n",
       "      <th>Radius of Gyration</th>\n",
       "      <th>Radius of Gyration (x-axis)</th>\n",
       "      <th>Radius of Gyration (y-axis)</th>\n",
       "      <th>Radius of Gyration (z-axis)</th>\n",
       "    </tr>\n",
       "  </thead>\n",
       "  <tbody>\n",
       "    <tr>\n",
       "      <th>0</th>\n",
       "      <td>0.0</td>\n",
       "      <td>1.000000</td>\n",
       "      <td>16.669018</td>\n",
       "      <td>12.679625</td>\n",
       "      <td>13.749343</td>\n",
       "      <td>14.349043</td>\n",
       "    </tr>\n",
       "    <tr>\n",
       "      <th>1</th>\n",
       "      <td>1.0</td>\n",
       "      <td>2.000000</td>\n",
       "      <td>16.673217</td>\n",
       "      <td>12.640025</td>\n",
       "      <td>13.760545</td>\n",
       "      <td>14.382960</td>\n",
       "    </tr>\n",
       "    <tr>\n",
       "      <th>2</th>\n",
       "      <td>2.0</td>\n",
       "      <td>3.000000</td>\n",
       "      <td>16.731454</td>\n",
       "      <td>12.696454</td>\n",
       "      <td>13.801342</td>\n",
       "      <td>14.429350</td>\n",
       "    </tr>\n",
       "    <tr>\n",
       "      <th>3</th>\n",
       "      <td>3.0</td>\n",
       "      <td>4.000000</td>\n",
       "      <td>16.722283</td>\n",
       "      <td>12.677194</td>\n",
       "      <td>13.780732</td>\n",
       "      <td>14.444711</td>\n",
       "    </tr>\n",
       "    <tr>\n",
       "      <th>4</th>\n",
       "      <td>4.0</td>\n",
       "      <td>5.000000</td>\n",
       "      <td>16.743961</td>\n",
       "      <td>12.646981</td>\n",
       "      <td>13.814553</td>\n",
       "      <td>14.489046</td>\n",
       "    </tr>\n",
       "    <tr>\n",
       "      <th>...</th>\n",
       "      <td>...</td>\n",
       "      <td>...</td>\n",
       "      <td>...</td>\n",
       "      <td>...</td>\n",
       "      <td>...</td>\n",
       "      <td>...</td>\n",
       "    </tr>\n",
       "    <tr>\n",
       "      <th>93</th>\n",
       "      <td>93.0</td>\n",
       "      <td>93.999992</td>\n",
       "      <td>19.562034</td>\n",
       "      <td>13.421683</td>\n",
       "      <td>16.539112</td>\n",
       "      <td>17.653968</td>\n",
       "    </tr>\n",
       "    <tr>\n",
       "      <th>94</th>\n",
       "      <td>94.0</td>\n",
       "      <td>94.999992</td>\n",
       "      <td>19.560575</td>\n",
       "      <td>13.451335</td>\n",
       "      <td>16.508649</td>\n",
       "      <td>17.656678</td>\n",
       "    </tr>\n",
       "    <tr>\n",
       "      <th>95</th>\n",
       "      <td>95.0</td>\n",
       "      <td>95.999992</td>\n",
       "      <td>19.550571</td>\n",
       "      <td>13.445914</td>\n",
       "      <td>16.500640</td>\n",
       "      <td>17.646130</td>\n",
       "    </tr>\n",
       "    <tr>\n",
       "      <th>96</th>\n",
       "      <td>96.0</td>\n",
       "      <td>96.999991</td>\n",
       "      <td>19.568381</td>\n",
       "      <td>13.443243</td>\n",
       "      <td>16.507396</td>\n",
       "      <td>17.681294</td>\n",
       "    </tr>\n",
       "    <tr>\n",
       "      <th>97</th>\n",
       "      <td>97.0</td>\n",
       "      <td>97.999991</td>\n",
       "      <td>19.591575</td>\n",
       "      <td>13.442750</td>\n",
       "      <td>16.537926</td>\n",
       "      <td>17.704494</td>\n",
       "    </tr>\n",
       "  </tbody>\n",
       "</table>\n",
       "<p>98 rows × 6 columns</p>\n",
       "</div>"
      ],
      "text/plain": [
       "    Frame  Time (ps)  Radius of Gyration  Radius of Gyration (x-axis)  \\\n",
       "0     0.0   1.000000           16.669018                    12.679625   \n",
       "1     1.0   2.000000           16.673217                    12.640025   \n",
       "2     2.0   3.000000           16.731454                    12.696454   \n",
       "3     3.0   4.000000           16.722283                    12.677194   \n",
       "4     4.0   5.000000           16.743961                    12.646981   \n",
       "..    ...        ...                 ...                          ...   \n",
       "93   93.0  93.999992           19.562034                    13.421683   \n",
       "94   94.0  94.999992           19.560575                    13.451335   \n",
       "95   95.0  95.999992           19.550571                    13.445914   \n",
       "96   96.0  96.999991           19.568381                    13.443243   \n",
       "97   97.0  97.999991           19.591575                    13.442750   \n",
       "\n",
       "    Radius of Gyration (y-axis)  Radius of Gyration (z-axis)  \n",
       "0                     13.749343                    14.349043  \n",
       "1                     13.760545                    14.382960  \n",
       "2                     13.801342                    14.429350  \n",
       "3                     13.780732                    14.444711  \n",
       "4                     13.814553                    14.489046  \n",
       "..                          ...                          ...  \n",
       "93                    16.539112                    17.653968  \n",
       "94                    16.508649                    17.656678  \n",
       "95                    16.500640                    17.646130  \n",
       "96                    16.507396                    17.681294  \n",
       "97                    16.537926                    17.704494  \n",
       "\n",
       "[98 rows x 6 columns]"
      ]
     },
     "execution_count": 17,
     "metadata": {},
     "output_type": "execute_result"
    }
   ],
   "source": [
    "rog_base.df"
   ]
  },
  {
   "cell_type": "markdown",
   "metadata": {},
   "source": [
    "Using this DataFrame we can easily plot our results."
   ]
  },
  {
   "cell_type": "code",
   "execution_count": 18,
   "metadata": {},
   "outputs": [
    {
     "data": {
      "image/png": "[encoded data removed]",
      "text/plain": [
       "<Figure size 432x288 with 1 Axes>"
      ]
     },
     "metadata": {
      "needs_background": "light"
     },
     "output_type": "display_data"
    }
   ],
   "source": [
    "ax = rog_base.df.plot(x='Time (ps)', y=rog_base.df.columns[2:])\n",
    "ax.set_ylabel('Radius of gyration (A)');"
   ]
  },
  {
   "cell_type": "markdown",
   "metadata": {},
   "source": [
    "We can also run the analysis over a subset of frames, the same as the output from `AnalysisFromFunction` and `analysis_class`."
   ]
  },
  {
   "cell_type": "code",
   "execution_count": 19,
   "metadata": {},
   "outputs": [
    {
     "name": "stderr",
     "output_type": "stream",
     "text": [
      "Step    10/10 [100.0%]\n"
     ]
    }
   ],
   "source": [
    "rog_base_10 = RadiusOfGyration2(protein, verbose=True)\n",
    "rog_base_10.run(start=10, stop=80, step=7);"
   ]
  },
  {
   "cell_type": "code",
   "execution_count": 20,
   "metadata": {},
   "outputs": [
    {
     "data": {
      "text/plain": [
       "(10, 6)"
      ]
     },
     "execution_count": 20,
     "metadata": {},
     "output_type": "execute_result"
    }
   ],
   "source": [
    "rog_base_10.results.shape"
   ]
  },
  {
   "cell_type": "code",
   "execution_count": 21,
   "metadata": {
    "scrolled": true
   },
   "outputs": [
    {
     "data": {
      "text/html": [
       "<div>\n",
       "<style scoped>\n",
       "    .dataframe tbody tr th:only-of-type {\n",
       "        vertical-align: middle;\n",
       "    }\n",
       "\n",
       "    .dataframe tbody tr th {\n",
       "        vertical-align: top;\n",
       "    }\n",
       "\n",
       "    .dataframe thead th {\n",
       "        text-align: right;\n",
       "    }\n",
       "</style>\n",
       "<table border=\"1\" class=\"dataframe\">\n",
       "  <thead>\n",
       "    <tr style=\"text-align: right;\">\n",
       "      <th></th>\n",
       "      <th>Frame</th>\n",
       "      <th>Time (ps)</th>\n",
       "      <th>Radius of Gyration</th>\n",
       "      <th>Radius of Gyration (x-axis)</th>\n",
       "      <th>Radius of Gyration (y-axis)</th>\n",
       "      <th>Radius of Gyration (z-axis)</th>\n",
       "    </tr>\n",
       "  </thead>\n",
       "  <tbody>\n",
       "    <tr>\n",
       "      <th>0</th>\n",
       "      <td>10.0</td>\n",
       "      <td>10.999999</td>\n",
       "      <td>16.852127</td>\n",
       "      <td>12.584163</td>\n",
       "      <td>14.001589</td>\n",
       "      <td>14.614469</td>\n",
       "    </tr>\n",
       "    <tr>\n",
       "      <th>1</th>\n",
       "      <td>17.0</td>\n",
       "      <td>17.999998</td>\n",
       "      <td>17.019587</td>\n",
       "      <td>12.544784</td>\n",
       "      <td>14.163276</td>\n",
       "      <td>14.878262</td>\n",
       "    </tr>\n",
       "    <tr>\n",
       "      <th>2</th>\n",
       "      <td>24.0</td>\n",
       "      <td>24.999998</td>\n",
       "      <td>17.257429</td>\n",
       "      <td>12.514341</td>\n",
       "      <td>14.487021</td>\n",
       "      <td>15.137873</td>\n",
       "    </tr>\n",
       "    <tr>\n",
       "      <th>3</th>\n",
       "      <td>31.0</td>\n",
       "      <td>31.999997</td>\n",
       "      <td>17.542565</td>\n",
       "      <td>12.522147</td>\n",
       "      <td>14.747461</td>\n",
       "      <td>15.530339</td>\n",
       "    </tr>\n",
       "    <tr>\n",
       "      <th>4</th>\n",
       "      <td>38.0</td>\n",
       "      <td>38.999997</td>\n",
       "      <td>17.871241</td>\n",
       "      <td>12.482385</td>\n",
       "      <td>15.088865</td>\n",
       "      <td>15.977444</td>\n",
       "    </tr>\n",
       "    <tr>\n",
       "      <th>5</th>\n",
       "      <td>45.0</td>\n",
       "      <td>45.999996</td>\n",
       "      <td>18.182243</td>\n",
       "      <td>12.533023</td>\n",
       "      <td>15.451285</td>\n",
       "      <td>16.290153</td>\n",
       "    </tr>\n",
       "    <tr>\n",
       "      <th>6</th>\n",
       "      <td>52.0</td>\n",
       "      <td>52.999995</td>\n",
       "      <td>18.496493</td>\n",
       "      <td>12.771949</td>\n",
       "      <td>15.667003</td>\n",
       "      <td>16.603098</td>\n",
       "    </tr>\n",
       "    <tr>\n",
       "      <th>7</th>\n",
       "      <td>59.0</td>\n",
       "      <td>59.999995</td>\n",
       "      <td>18.839346</td>\n",
       "      <td>13.037335</td>\n",
       "      <td>15.900327</td>\n",
       "      <td>16.942533</td>\n",
       "    </tr>\n",
       "    <tr>\n",
       "      <th>8</th>\n",
       "      <td>66.0</td>\n",
       "      <td>66.999994</td>\n",
       "      <td>19.064333</td>\n",
       "      <td>13.061491</td>\n",
       "      <td>16.114195</td>\n",
       "      <td>17.222884</td>\n",
       "    </tr>\n",
       "    <tr>\n",
       "      <th>9</th>\n",
       "      <td>73.0</td>\n",
       "      <td>73.999993</td>\n",
       "      <td>19.276639</td>\n",
       "      <td>13.161863</td>\n",
       "      <td>16.298539</td>\n",
       "      <td>17.444213</td>\n",
       "    </tr>\n",
       "  </tbody>\n",
       "</table>\n",
       "</div>"
      ],
      "text/plain": [
       "   Frame  Time (ps)  Radius of Gyration  Radius of Gyration (x-axis)  \\\n",
       "0   10.0  10.999999           16.852127                    12.584163   \n",
       "1   17.0  17.999998           17.019587                    12.544784   \n",
       "2   24.0  24.999998           17.257429                    12.514341   \n",
       "3   31.0  31.999997           17.542565                    12.522147   \n",
       "4   38.0  38.999997           17.871241                    12.482385   \n",
       "5   45.0  45.999996           18.182243                    12.533023   \n",
       "6   52.0  52.999995           18.496493                    12.771949   \n",
       "7   59.0  59.999995           18.839346                    13.037335   \n",
       "8   66.0  66.999994           19.064333                    13.061491   \n",
       "9   73.0  73.999993           19.276639                    13.161863   \n",
       "\n",
       "   Radius of Gyration (y-axis)  Radius of Gyration (z-axis)  \n",
       "0                    14.001589                    14.614469  \n",
       "1                    14.163276                    14.878262  \n",
       "2                    14.487021                    15.137873  \n",
       "3                    14.747461                    15.530339  \n",
       "4                    15.088865                    15.977444  \n",
       "5                    15.451285                    16.290153  \n",
       "6                    15.667003                    16.603098  \n",
       "7                    15.900327                    16.942533  \n",
       "8                    16.114195                    17.222884  \n",
       "9                    16.298539                    17.444213  "
      ]
     },
     "execution_count": 21,
     "metadata": {},
     "output_type": "execute_result"
    }
   ],
   "source": [
    "rog_base_10.df"
   ]
  },
  {
   "cell_type": "code",
   "execution_count": 22,
   "metadata": {},
   "outputs": [
    {
     "data": {
      "image/png": "[encoded data removed]",
      "text/plain": [
       "<Figure size 432x288 with 1 Axes>"
      ]
     },
     "metadata": {
      "needs_background": "light"
     },
     "output_type": "display_data"
    }
   ],
   "source": [
    "ax_10 = rog_base_10.df.plot(x='Time (ps)', \n",
    "                            y=rog_base_10.df.columns[2:])\n",
    "ax_10.set_ylabel('Radius of gyration (A)');"
   ]
  }
 ],
 "metadata": {
  "kernelspec": {
   "display_name": "Python (mda0190)",
   "language": "python",
   "name": "mda0190"
  },
  "language_info": {
   "codemirror_mode": {
    "name": "ipython",
    "version": 3
   },
   "file_extension": ".py",
   "mimetype": "text/x-python",
   "name": "python",
   "nbconvert_exporter": "python",
   "pygments_lexer": "ipython3",
   "version": "3.6.7"
  },
  "toc": {
   "base_numbering": 1,
   "nav_menu": {},
   "number_sections": false,
   "sideBar": true,
   "skip_h1_title": false,
   "title_cell": "Table of Contents",
   "title_sidebar": "Contents",
   "toc_cell": false,
   "toc_position": {},
   "toc_section_display": true,
   "toc_window_display": true
  }
 },
 "nbformat": 4,
 "nbformat_minor": 2
}
