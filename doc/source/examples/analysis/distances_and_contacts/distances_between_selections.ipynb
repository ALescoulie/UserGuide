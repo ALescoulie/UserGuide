{
 "cells": [
  {
   "cell_type": "markdown",
   "metadata": {},
   "source": [
    "# Calculating all distances between two groups of atoms\n",
    "\n",
    "Here we use ``distances.distance_array`` to quantify the distances between each atom of a target set to each atom in a reference set, and show how we can extend that to calculating the distances between the centers-of-mass of residues.\n",
    "\n",
    "**Last updated:** January 2020\n",
    "\n",
    "**Minimum version of MDAnalysis:** 0.20.1\n",
    "\n",
    "**Packages required:**\n",
    "    \n",
    "* MDAnalysis [[1, 2]](#References)\n",
    "* MDAnalysisTests\n",
    "   \n",
    "**Optional packages for visualisation:**\n",
    "\n",
    "* [matplotlib](https://matplotlib.org)\n",
    "\n"
   ]
  },
  {
   "cell_type": "code",
   "execution_count": 14,
   "metadata": {},
   "outputs": [],
   "source": [
    "import MDAnalysis as mda\n",
    "from MDAnalysis.tests.datafiles import PDB_small\n",
    "from MDAnalysis.analysis import distances\n",
    "\n",
    "import numpy as np\n",
    "import matplotlib.pyplot as plt\n",
    "%matplotlib inline"
   ]
  },
  {
   "cell_type": "markdown",
   "metadata": {},
   "source": [
    "## Loading files"
   ]
  },
  {
   "cell_type": "markdown",
   "metadata": {},
   "source": [
    "The test files we will be working with here feature adenylate kinase (AdK), a phosophotransferase enzyme. [[3]](#References) AdK has three domains: \n",
    "\n",
    "  * CORE\n",
    "  * LID: an ATP-binding domain (residues 122-159)\n",
    "  * NMP: an AMP-binding domain (residues 30-59)\n",
    "  "
   ]
  },
  {
   "cell_type": "code",
   "execution_count": 15,
   "metadata": {},
   "outputs": [],
   "source": [
    "u = mda.Universe(PDB_small)   # open AdK"
   ]
  },
  {
   "cell_type": "markdown",
   "metadata": {},
   "source": [
    "## Calculating atom-to-atom distances between non-matching coordinate arrays"
   ]
  },
  {
   "cell_type": "markdown",
   "metadata": {},
   "source": [
    "We select the alpha-carbon atoms of each domain."
   ]
  },
  {
   "cell_type": "code",
   "execution_count": 26,
   "metadata": {},
   "outputs": [
    {
     "name": "stdout",
     "output_type": "stream",
     "text": [
      "LID has 38 residues and NMP has 30 residues\n"
     ]
    }
   ],
   "source": [
    "LID_ca = u.select_atoms('name CA and resid 122-159')\n",
    "NMP_ca = u.select_atoms('name CA and resid 30-59')\n",
    "\n",
    "n_LID = len(LID_ca)\n",
    "n_NMP = len(NMP_ca)\n",
    "print('LID has {} residues and NMP has {} residues'.format(n_LID, n_NMP))"
   ]
  },
  {
   "cell_type": "markdown",
   "metadata": {},
   "source": [
    "`distances.distance_array` will produce an array with shape `(n, m)` distances if there are `n` positions in the reference array and `m` positions in the other configuration. If you want to calculate distances following the minimum image convention, you *must* pass the universe dimensions into the ``box`` keyword."
   ]
  },
  {
   "cell_type": "code",
   "execution_count": 27,
   "metadata": {},
   "outputs": [
    {
     "data": {
      "text/plain": [
       "(38, 30)"
      ]
     },
     "execution_count": 27,
     "metadata": {},
     "output_type": "execute_result"
    }
   ],
   "source": [
    "dist_arr = distances.distance_array(LID_ca.positions, # reference\n",
    "                                    NMP_ca.positions, # configuration\n",
    "                                    box=u1.dimensions)\n",
    "dist_arr.shape"
   ]
  },
  {
   "cell_type": "markdown",
   "metadata": {},
   "source": [
    "### Plotting distance as a heatmap"
   ]
  },
  {
   "cell_type": "code",
   "execution_count": 28,
   "metadata": {
    "scrolled": true
   },
   "outputs": [
    {
     "data": {
      "text/plain": [
       "Text(0, 0.5, 'Distance (Angstrom)')"
      ]
     },
     "execution_count": 28,
     "metadata": {},
     "output_type": "execute_result"
    },
    {
     "data": {
      "image/png": "[encoded data removed]",
      "text/plain": [
       "<Figure size 432x288 with 2 Axes>"
      ]
     },
     "metadata": {
      "needs_background": "light"
     },
     "output_type": "display_data"
    }
   ],
   "source": [
    "fig, ax = plt.subplots()\n",
    "im = ax.imshow(dist_arr, origin='upper')\n",
    "\n",
    "# add residue ID labels to axes\n",
    "tick_interval = 5\n",
    "ax.set_yticks(np.arange(n_LID)[::tick_interval])\n",
    "ax.set_xticks(np.arange(n_NMP)[::tick_interval])\n",
    "ax.set_yticklabels(LID.resids[::tick_interval])\n",
    "ax.set_xticklabels(NMP.resids[::tick_interval])\n",
    "\n",
    "# add figure labels and titles\n",
    "plt.ylabel('LID')\n",
    "plt.xlabel('NMP')\n",
    "plt.title('Distance between alpha-carbon')\n",
    "\n",
    "# colorbar\n",
    "cbar = fig.colorbar(im)\n",
    "cbar.ax.set_ylabel('Distance (Angstrom)')"
   ]
  },
  {
   "cell_type": "markdown",
   "metadata": {},
   "source": [
    "## Calculating residue-to-residue distances"
   ]
  },
  {
   "cell_type": "markdown",
   "metadata": {},
   "source": [
    "As `distances.distance_array` just takes coordinate arrays as input, it is very flexible in calculating distances between each atom, or centers-of-masses, centers-of-geometries, and so on.\n",
    "\n",
    "Instead of calculating the distance between the alpha-carbon of each residue, we could look at the distances between the centers-of-mass instead. The process is very similar to the atom-wise distances above, but we give `distances.distance_array` an array of residue center-of-mass coordinates instead."
   ]
  },
  {
   "cell_type": "code",
   "execution_count": 29,
   "metadata": {},
   "outputs": [
    {
     "name": "stdout",
     "output_type": "stream",
     "text": [
      "LID has 38 residues and NMP has 30 residues\n"
     ]
    }
   ],
   "source": [
    "LID = u.select_atoms('resid 122-159')\n",
    "NMP = u.select_atoms('resid 30-59')\n",
    "\n",
    "LID_com = LID.center_of_mass(compound='residues')\n",
    "NMP_com = NMP.center_of_mass(compound='residues')\n",
    "\n",
    "n_LID = len(LID_com)\n",
    "n_NMP = len(NMP_com)\n",
    "\n",
    "print('LID has {} residues and NMP has {} residues'.format(n_LID, n_NMP))"
   ]
  },
  {
   "cell_type": "markdown",
   "metadata": {},
   "source": [
    "We can pass these center-of-mass arrays directly into `distances.distance_array`."
   ]
  },
  {
   "cell_type": "code",
   "execution_count": 30,
   "metadata": {},
   "outputs": [],
   "source": [
    "res_dist = distances.distance_array(LID_com, NMP_com,\n",
    "                                    box=u.dimensions)"
   ]
  },
  {
   "cell_type": "markdown",
   "metadata": {},
   "source": [
    "### Plotting"
   ]
  },
  {
   "cell_type": "code",
   "execution_count": 31,
   "metadata": {},
   "outputs": [
    {
     "data": {
      "text/plain": [
       "Text(0, 0.5, 'Distance (Angstrom)')"
      ]
     },
     "execution_count": 31,
     "metadata": {},
     "output_type": "execute_result"
    },
    {
     "data": {
      "image/png": "[encoded data removed]",
      "text/plain": [
       "<Figure size 432x288 with 2 Axes>"
      ]
     },
     "metadata": {
      "needs_background": "light"
     },
     "output_type": "display_data"
    }
   ],
   "source": [
    "fig2, ax2 = plt.subplots()\n",
    "im2 = ax2.imshow(res_dist, origin='upper')\n",
    "\n",
    "# add residue ID labels to axes\n",
    "tick_interval = 5\n",
    "ax2.set_yticks(np.arange(n_LID)[::tick_interval])\n",
    "ax2.set_xticks(np.arange(n_NMP)[::tick_interval])\n",
    "ax2.set_yticklabels(LID.residues.resids[::tick_interval])\n",
    "ax2.set_xticklabels(NMP.residues.resids[::tick_interval])\n",
    "\n",
    "# add figure labels and titles\n",
    "plt.ylabel('LID')\n",
    "plt.xlabel('NMP')\n",
    "plt.title('Distance between center-of-mass')\n",
    "\n",
    "# colorbar\n",
    "cbar2 = fig2.colorbar(im)\n",
    "cbar2.ax.set_ylabel('Distance (Angstrom)')"
   ]
  },
  {
   "cell_type": "markdown",
   "metadata": {},
   "source": [
    "## References"
   ]
  },
  {
   "cell_type": "markdown",
   "metadata": {},
   "source": [
    "[1]: R. J. Gowers, M. Linke, J. Barnoud, T. J. E. Reddy, M. N. Melo, S. L. Seyler, D. L. Dotson, J. Domanski, S. Buchoux, I. M. Kenney, and O. Beckstein. [MDAnalysis: A Python package for the rapid analysis of molecular dynamics simulations](http://conference.scipy.org/proceedings/scipy2016/oliver_beckstein.html). In S. Benthall and S. Rostrup, editors, *Proceedings of the 15th Python in Science Conference*, pages 98-105, Austin, TX, 2016. SciPy, [doi:10.25080/majora-629e541a-00e](https://doi.org/10.25080/majora-629e541a-00e).\n",
    "\n",
    "[2]: N. Michaud-Agrawal, E. J. Denning, T. B. Woolf, and O. Beckstein. MDAnalysis: A Toolkit for the Analysis of Molecular Dynamics Simulations. *J. Comput. Chem*. 32 (2011), 2319-2327, doi:[10.1002/jcc.21787](https://dx.doi.org/10.1002/jcc.21787). PMCID:[PMC3144279](https://www.ncbi.nlm.nih.gov/pmc/articles/PMC3144279/)\n",
    "\n",
    "[3]: Beckstein O, Denning EJ, Perilla JR, Woolf TB. Zipping and unzipping of adenylate kinase: atomistic insights into the ensemble of open<-->closed transitions. *J Mol Biol*. 2009;394(1):160–176. [doi:10.1016/j.jmb.2009.09.009](https://dx.doi.org/10.1016%2Fj.jmb.2009.09.009)"
   ]
  }
 ],
 "metadata": {
  "kernelspec": {
   "display_name": "Python (mdanalysis)",
   "language": "python",
   "name": "mdanalysis"
  },
  "language_info": {
   "codemirror_mode": {
    "name": "ipython",
    "version": 3
   },
   "file_extension": ".py",
   "mimetype": "text/x-python",
   "name": "python",
   "nbconvert_exporter": "python",
   "pygments_lexer": "ipython3",
   "version": "3.7.3"
  },
  "toc": {
   "base_numbering": 1,
   "nav_menu": {},
   "number_sections": false,
   "sideBar": true,
   "skip_h1_title": false,
   "title_cell": "Table of Contents",
   "title_sidebar": "Contents",
   "toc_cell": false,
   "toc_position": {},
   "toc_section_display": true,
   "toc_window_display": true
  }
 },
 "nbformat": 4,
 "nbformat_minor": 2
}
